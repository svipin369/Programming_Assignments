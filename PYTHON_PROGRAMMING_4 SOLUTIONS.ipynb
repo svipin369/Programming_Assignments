{
 "cells": [
  {
   "cell_type": "code",
   "execution_count": 1,
   "id": "d0ee681c",
   "metadata": {},
   "outputs": [
    {
     "name": "stdout",
     "output_type": "stream",
     "text": [
      "Enter a number :  5\n",
      "The Factorial of  5 is 120\n"
     ]
    }
   ],
   "source": [
    "### Q1. Factorial of a number ###\n",
    "\n",
    "def factorial(n):\n",
    "    if n==0:\n",
    "        return 1\n",
    "    else:\n",
    "        return n*factorial(n-1)\n",
    "i=int(input(\"Enter a number :  \"))\n",
    "if i < 0:\n",
    "    print(\"Enter a positive number!!!\")\n",
    "elif i==0:\n",
    "    print(\"factorial is 0\")\n",
    "else:\n",
    "    print(\"The Factorial of \",i,\"is\", factorial(i) )"
   ]
  },
  {
   "cell_type": "code",
   "execution_count": 3,
   "id": "a44f5ee6",
   "metadata": {},
   "outputs": [
    {
     "name": "stdout",
     "output_type": "stream",
     "text": [
      "Enter the number for which you want to display multiplication table :  33\n",
      "Multiplication table for  33\n",
      "33 x 1 = 33\n",
      "33 x 2 = 66\n",
      "33 x 3 = 99\n",
      "33 x 4 = 132\n",
      "33 x 5 = 165\n",
      "33 x 6 = 198\n",
      "33 x 7 = 231\n",
      "33 x 8 = 264\n",
      "33 x 9 = 297\n",
      "33 x 10 = 330\n"
     ]
    }
   ],
   "source": [
    "#### Q2.Multiplication Table  of a number ###\n",
    "\n",
    "num=int(input(\"Enter the number for which you want to display multiplication table :  \"))\n",
    "print(\"Multiplication table for \",num)\n",
    "for i in range(1,11) :\n",
    "    print(num ,\"x\",i,\"=\",num*i) \n"
   ]
  },
  {
   "cell_type": "code",
   "execution_count": 5,
   "id": "7f7553be",
   "metadata": {},
   "outputs": [
    {
     "name": "stdout",
     "output_type": "stream",
     "text": [
      "Enter range upto which you want to print fibonacci series:  4\n",
      "0\n",
      "1\n",
      "1\n",
      "2\n"
     ]
    }
   ],
   "source": [
    "### Q3. Fibonacci Series ###\n",
    "\n",
    "def fibonacci(n):\n",
    "    if n == 0:\n",
    "        return 0\n",
    "    elif n == 1:\n",
    "        return 1\n",
    "    else:\n",
    "        return fibonacci(n - 1) + fibonacci(n - 2)\n",
    "\n",
    "\n",
    "def main():\n",
    "    num=int(input(\"Enter range upto which you want to print fibonacci series:  \"))\n",
    "    for i in range(num):\n",
    "        print(fibonacci(i))\n",
    "\n",
    "\n",
    "if __name__ == \"__main__\":\n",
    "    main()\n",
    "        \n",
    "        "
   ]
  },
  {
   "cell_type": "code",
   "execution_count": 3,
   "id": "bedbdd93",
   "metadata": {},
   "outputs": [
    {
     "name": "stdout",
     "output_type": "stream",
     "text": [
      "Enter a number: 153\n",
      "153 is an Armstrong number.\n"
     ]
    }
   ],
   "source": [
    "### Q4. Armstrong number or not #####\n",
    "\n",
    "def is_armstrong(number):\n",
    "   \n",
    "    total_digits = str(number)\n",
    "    \n",
    "    power=len(total_digits)\n",
    "    \n",
    "    armstrong_sum = 0\n",
    "    for digit in total_digits:\n",
    "        digit = int(digit)\n",
    "        armstrong_sum += digit ** power\n",
    "    \n",
    "   \n",
    "    if armstrong_sum == number:\n",
    "        return True\n",
    "    else:\n",
    "        return False\n",
    "\n",
    "# Test the function\n",
    "number = int(input(\"Enter a number: \"))\n",
    "if is_armstrong(number):\n",
    "    print(number, \"is an Armstrong number.\")\n",
    "else:\n",
    "    print(number, \"is not an Armstrong number.\")"
   ]
  },
  {
   "cell_type": "code",
   "execution_count": 9,
   "id": "4048a896",
   "metadata": {},
   "outputs": [
    {
     "name": "stdout",
     "output_type": "stream",
     "text": [
      "Enter the starting number of the interval: 1\n",
      "Enter the ending number of the interval: 153\n",
      "Armstrong numbers within the interval: [1, 2, 3, 4, 5, 6, 7, 8, 9, 153]\n"
     ]
    }
   ],
   "source": [
    "### Q5. Armstrong Number between a Range ####\n",
    "\n",
    "def is_armstrong(number):\n",
    "    total_digits = str(number)\n",
    "    power = len(total_digits)\n",
    "    armstrong_sum = 0\n",
    "    \n",
    "    for digit in total_digits:\n",
    "        digit = int(digit)\n",
    "        armstrong_sum += digit ** power\n",
    "    \n",
    "    if armstrong_sum == num:\n",
    "        return True\n",
    "    else:\n",
    "        return False\n",
    "\n",
    "\n",
    "def armstrong_range(initial, last):\n",
    "    armstrong_numbers = []\n",
    "    \n",
    "    for num in range(initial, last + 1):\n",
    "        if is_armstrong_number(num):\n",
    "            armstrong_numbers.append(num)\n",
    "    \n",
    "    return armstrong_numbers\n",
    "\n",
    "\n",
    "initial = int(input(\"Enter the starting number of the interval: \"))\n",
    "last = int(input(\"Enter the ending number of the interval: \"))\n",
    "\n",
    "result = armstrong_range(initial,last)\n",
    "print(\"Armstrong numbers within the interval:\", result)"
   ]
  },
  {
   "cell_type": "code",
   "execution_count": 10,
   "id": "a24ccefa",
   "metadata": {},
   "outputs": [
    {
     "name": "stdout",
     "output_type": "stream",
     "text": [
      "Enter the nth value: 12\n",
      "Sum of natural numbers up to 12 is 78\n"
     ]
    }
   ],
   "source": [
    "### Q6.Sum of Natural Numbers##\n",
    "\n",
    "def sum_of_natural_numbers(limit):\n",
    "    sum = 0\n",
    "    \n",
    "    for num in range(1, limit + 1):\n",
    "        sum += num\n",
    "    \n",
    "    return sum\n",
    "\n",
    "\n",
    "last = int(input(\"Enter the nth value: \"))\n",
    "\n",
    "result = sum_of_natural_numbers(last)\n",
    "print(\"Sum of natural numbers up to\", last, \"is\", result)\n"
   ]
  },
  {
   "cell_type": "code",
   "execution_count": null,
   "id": "48b1fa2a",
   "metadata": {},
   "outputs": [],
   "source": []
  }
 ],
 "metadata": {
  "kernelspec": {
   "display_name": "Python 3 (ipykernel)",
   "language": "python",
   "name": "python3"
  },
  "language_info": {
   "codemirror_mode": {
    "name": "ipython",
    "version": 3
   },
   "file_extension": ".py",
   "mimetype": "text/x-python",
   "name": "python",
   "nbconvert_exporter": "python",
   "pygments_lexer": "ipython3",
   "version": "3.9.12"
  }
 },
 "nbformat": 4,
 "nbformat_minor": 5
}
