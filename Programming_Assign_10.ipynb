{
 "cells": [
  {
   "cell_type": "code",
   "execution_count": 1,
   "id": "7664c30b",
   "metadata": {},
   "outputs": [
    {
     "name": "stdout",
     "output_type": "stream",
     "text": [
      "Enter the number of elements: 4\n",
      "Enter element 1: 2\n",
      "Enter element 2: 3\n",
      "Enter element 3: 4\n",
      "Enter element 4: 5\n",
      "The sum of elements in the list is: 14\n"
     ]
    }
   ],
   "source": [
    "#Question 1- Sum of elements in a list\n",
    "\n",
    "n = int(input(\"Enter the number of elements: \"))\n",
    "\n",
    "\n",
    "my_list = []\n",
    "\n",
    "\n",
    "for i in range(n):\n",
    "    element = int(input(f\"Enter element {i + 1}: \"))\n",
    "    my_list.append(element)\n",
    "\n",
    "# Calculate the sum of elements in the list\n",
    "total_sum = sum(my_list)\n",
    "\n",
    "print(f\"The sum of elements in the list is: {total_sum}\")"
   ]
  },
  {
   "cell_type": "code",
   "execution_count": 8,
   "id": "e219fbc1",
   "metadata": {},
   "outputs": [
    {
     "name": "stdout",
     "output_type": "stream",
     "text": [
      "Enter the number of elements: 3\n",
      "Enter element 1: 1\n",
      "Enter element 2: 2\n",
      "Enter element 3: 3\n",
      "The product of elements in the list is: 6\n"
     ]
    }
   ],
   "source": [
    "#Question 2- Product of elements in the list\n",
    "n = int(input(\"Enter the number of elements: \"))\n",
    "my_list = []\n",
    "for i in range(n):\n",
    "    element = int(input(f\"Enter element {i + 1}: \"))\n",
    "    my_list.append(element)\n",
    "\n",
    "product = 1\n",
    "for number in my_list:\n",
    "    product *= number\n",
    "\n",
    "print(f\"The product of elements in the list is: {product}\")"
   ]
  },
  {
   "cell_type": "code",
   "execution_count": 9,
   "id": "fa273321",
   "metadata": {},
   "outputs": [
    {
     "name": "stdout",
     "output_type": "stream",
     "text": [
      "Enter the number of elements: 3\n",
      "Enter element 1: 2\n",
      "Enter element 2: 4\n",
      "Enter element 3: 5\n",
      "The product of elements in the list is: 2\n"
     ]
    }
   ],
   "source": [
    "#Question 3-Smallest number in the list\n",
    "n = int(input(\"Enter the number of elements: \"))\n",
    "my_list = []\n",
    "for i in range(n):\n",
    "    element = int(input(f\"Enter element {i + 1}: \"))\n",
    "    my_list.append(element)\n",
    "smallest_number = my_list[0]\n",
    "for number in my_list:\n",
    "    if number < smallest_number:\n",
    "        smallest_number = number\n",
    "print(f\"The product of elements in the list is: {smallest_number}\")"
   ]
  },
  {
   "cell_type": "code",
   "execution_count": 10,
   "id": "95050464",
   "metadata": {},
   "outputs": [
    {
     "name": "stdout",
     "output_type": "stream",
     "text": [
      "Enter the number of elements: 4\n",
      "Enter element 1: 2\n",
      "Enter element 2: 43\n",
      "Enter element 3: 56\n",
      "Enter element 4: 35\n",
      "The product of elements in the list is: 56\n"
     ]
    }
   ],
   "source": [
    "#Question 4- Largest number in the list\n",
    "n = int(input(\"Enter the number of elements: \"))\n",
    "my_list = []\n",
    "for i in range(n):\n",
    "    element = int(input(f\"Enter element {i + 1}: \"))\n",
    "    my_list.append(element)\n",
    "largest_number = my_list[0]\n",
    "for number in my_list:\n",
    "    if number > largest_number:\n",
    "        largest_number = number\n",
    "\n",
    "print(f\"The product of elements in the list is: {largest_number}\")"
   ]
  },
  {
   "cell_type": "code",
   "execution_count": 11,
   "id": "b7bc7499",
   "metadata": {},
   "outputs": [
    {
     "name": "stdout",
     "output_type": "stream",
     "text": [
      "Enter the number of elements in the list: 4\n",
      "Enter element 1: 1\n",
      "Enter element 2: 2\n",
      "Enter element 3: 3\n",
      "Enter element 4: 4\n",
      "The second largest number in the list is: 3.0\n"
     ]
    }
   ],
   "source": [
    "#Question 5- Second largest element\n",
    "# Define the function to find the second largest number\n",
    "def second_largest(numbers):\n",
    "    if len(numbers) < 2:\n",
    "        return \"List should have at least two elements\"\n",
    "    \n",
    "    unique_numbers = list(set(numbers))  # Removing duplicates\n",
    "    unique_numbers.sort()  # Sorting the list in ascending order\n",
    "    \n",
    "    return unique_numbers[-2]\n",
    "\n",
    "# Taking input from the user\n",
    "try:\n",
    "    num_count = int(input(\"Enter the number of elements in the list: \"))\n",
    "    num_list = []\n",
    "    \n",
    "    for i in range(num_count):\n",
    "        num = float(input(f\"Enter element {i + 1}: \"))\n",
    "        num_list.append(num)\n",
    "    \n",
    "    result = second_largest(num_list)\n",
    "    \n",
    "    if isinstance(result, str):\n",
    "        print(result)\n",
    "    else:\n",
    "        print(f\"The second largest number in the list is: {result}\")\n",
    "\n",
    "except ValueError:\n",
    "    print(\"Invalid input. Please enter valid numbers.\")"
   ]
  },
  {
   "cell_type": "code",
   "execution_count": 12,
   "id": "b69f7c79",
   "metadata": {},
   "outputs": [
    {
     "name": "stdout",
     "output_type": "stream",
     "text": [
      "Enter the number of elements in the list: 5\n",
      "Enter element 1: 23\n",
      "Enter element 2: 45\n",
      "Enter element 3: 67\n",
      "Enter element 4: 22\n",
      "Enter element 5: 35\n",
      "Enter the value of N: 3\n",
      "The 3 largest elements in the list are: [67.0, 45.0, 35.0]\n"
     ]
    }
   ],
   "source": [
    "#Question 6-N-Largest elements from a list\n",
    "\n",
    "# Function to find N largest elements in a list\n",
    "def n_largest_elements(numbers, N):\n",
    "    numbers.sort(reverse=True)  # Sort the list in descending order\n",
    "    return numbers[:N]  # Return the first N elements\n",
    "\n",
    "try:\n",
    "    num_count = int(input(\"Enter the number of elements in the list: \"))\n",
    "    num_list = []\n",
    "\n",
    "    for i in range(num_count):\n",
    "        num = float(input(f\"Enter element {i + 1}: \"))\n",
    "        num_list.append(num)\n",
    "\n",
    "    N = int(input(\"Enter the value of N: \"))\n",
    "\n",
    "    if N <= 0:\n",
    "        print(\"N should be a positive integer.\")\n",
    "    elif N > num_count:\n",
    "        print(\"N cannot be greater than the number of elements in the list.\")\n",
    "    else:\n",
    "        result = n_largest_elements(num_list, N)\n",
    "        print(f\"The {N} largest elements in the list are: {result}\")\n",
    "\n",
    "except ValueError:\n",
    "    print(\"Invalid input. Please enter valid numbers.\")\n"
   ]
  },
  {
   "cell_type": "code",
   "execution_count": 13,
   "id": "887e0094",
   "metadata": {},
   "outputs": [
    {
     "name": "stdout",
     "output_type": "stream",
     "text": [
      "Enter the number of elements in the list: 5\n",
      "Enter element 1: 2\n",
      "Enter element 2: 4\n",
      "Enter element 3: 5\n",
      "Enter element 4: 7\n",
      "Enter element 5: 3\n",
      "Even numbers in the list are: [2, 4]\n"
     ]
    }
   ],
   "source": [
    "#Question 7-Print Even numbers in a list\n",
    "# Taking input from the user\n",
    "try:\n",
    "    num_count = int(input(\"Enter the number of elements in the list: \"))\n",
    "    num_list = []\n",
    "    \n",
    "    for i in range(num_count):\n",
    "        num = int(input(f\"Enter element {i + 1}: \"))\n",
    "        num_list.append(num)\n",
    "    \n",
    "    # Using list comprehension to filter even numbers\n",
    "    even_numbers = [num for num in num_list if num % 2 == 0]\n",
    "    \n",
    "    if even_numbers:\n",
    "        print(\"Even numbers in the list are:\", even_numbers)\n",
    "    else:\n",
    "        print(\"There are no even numbers in the list.\")\n",
    "\n",
    "except ValueError:\n",
    "    print(\"Invalid input. Please enter valid numbers.\")\n"
   ]
  },
  {
   "cell_type": "code",
   "execution_count": 14,
   "id": "33555fcc",
   "metadata": {},
   "outputs": [
    {
     "name": "stdout",
     "output_type": "stream",
     "text": [
      "Enter the number of elements in the list: 5\n",
      "Enter element 1: 3\n",
      "Enter element 2: 5\n",
      "Enter element 3: 7\n",
      "Enter element 4: 8\n",
      "Enter element 5: 5\n",
      "Odd numbers in the list are: [3, 5, 7, 5]\n"
     ]
    }
   ],
   "source": [
    "#Question 8- Print odd numbers in a list\n",
    "# Taking input from the user\n",
    "try:\n",
    "    num_count = int(input(\"Enter the number of elements in the list: \"))\n",
    "    num_list = []\n",
    "    \n",
    "    for i in range(num_count):\n",
    "        num = int(input(f\"Enter element {i + 1}: \"))\n",
    "        num_list.append(num)\n",
    "    \n",
    "    # Using list comprehension to filter odd numbers\n",
    "    odd_numbers = [num for num in num_list if num % 2 != 0]\n",
    "    \n",
    "    if odd_numbers:\n",
    "        print(\"Odd numbers in the list are:\", odd_numbers)\n",
    "    else:\n",
    "        print(\"There are no odd numbers in the list.\")\n",
    "\n",
    "except ValueError:\n",
    "    print(\"Invalid input. Please enter valid numbers.\")\n"
   ]
  },
  {
   "cell_type": "code",
   "execution_count": 16,
   "id": "3806c8be",
   "metadata": {},
   "outputs": [
    {
     "name": "stdout",
     "output_type": "stream",
     "text": [
      "Enter the number of lists you want to input: 3\n",
      "Enter the number of elements for list 1: 3\n",
      "Enter element 1 for list 1: 2\n",
      "Enter element 2 for list 1: 3\n",
      "Enter element 3 for list 1: 4\n",
      "Enter the number of elements for list 2: 0\n",
      "Enter the number of elements for list 3: 2\n",
      "Enter element 1 for list 3: 2\n",
      "Enter element 2 for list 3: 3\n",
      "List after removing empty lists: [['2', '3', '4'], ['2', '3']]\n"
     ]
    }
   ],
   "source": [
    "#Question 9- Remove Empty list from list\n",
    "# Taking input from the user\n",
    "try:\n",
    "    num_lists = int(input(\"Enter the number of lists you want to input: \"))\n",
    "    nested_list = []\n",
    "\n",
    "    for i in range(num_lists):\n",
    "        num_elements = int(input(f\"Enter the number of elements for list {i + 1}: \"))\n",
    "        num_list = []\n",
    "\n",
    "        for j in range(num_elements):\n",
    "            element = input(f\"Enter element {j + 1} for list {i + 1}: \")\n",
    "            # Convert the input element to the desired data type (e.g., int)\n",
    "            num_list.append(element)\n",
    "\n",
    "        nested_list.append(num_list)\n",
    "\n",
    "    # Removing empty lists from the nested list\n",
    "    nested_list = [lst for lst in nested_list if lst]\n",
    "\n",
    "    if nested_list:\n",
    "        print(\"List after removing empty lists:\", nested_list)\n",
    "    else:\n",
    "        print(\"There are no non-empty lists in the input.\")\n",
    "\n",
    "except ValueError:\n",
    "    print(\"Invalid input. Please enter valid numbers.\")\n",
    "\n"
   ]
  },
  {
   "cell_type": "code",
   "execution_count": 3,
   "id": "0a2f2953",
   "metadata": {},
   "outputs": [
    {
     "name": "stdout",
     "output_type": "stream",
     "text": [
      "Enter numbers separated by spaces: 1 2\n",
      "Original List: [1, 2]\n",
      "Copied List: [1, 2]\n"
     ]
    }
   ],
   "source": [
    "#Question 10 Program to copy or clone a list\n",
    "# Function to clone or copy a list\n",
    "def clone_list(original_list):\n",
    "    return original_list.copy()\n",
    "\n",
    "# Input a list of numbers from the user\n",
    "user_input = input(\"Enter numbers separated by spaces: \")\n",
    "input_str_list = user_input.split()\n",
    "\n",
    "# Convert input elements to integers\n",
    "input_list = [int(item) for item in input_str_list]\n",
    "\n",
    "# Create a copy of the input list\n",
    "copied_list = clone_list(input_list)\n",
    "\n",
    "# Display the original and copied lists\n",
    "print(\"Original List:\", input_list)\n",
    "print(\"Copied List:\", copied_list)\n"
   ]
  },
  {
   "cell_type": "code",
   "execution_count": 1,
   "id": "0ce7078b",
   "metadata": {},
   "outputs": [
    {
     "name": "stdout",
     "output_type": "stream",
     "text": [
      "Enter the number of elements in the list: 5\n",
      "Enter element 1: 1\n",
      "Enter element 2: 2\n",
      "Enter element 3: 3\n",
      "Enter element 4: 5\n",
      "Enter element 5: 6\n",
      "Enter the element to count: 2\n",
      "The element 2 appears 1 times in the list.\n"
     ]
    }
   ],
   "source": [
    "#Question 10-Count occurence of element in list\n",
    "# Function to count occurrences of an element in a list\n",
    "def count_occurrences(element, input_list):\n",
    "    return input_list.count(element)\n",
    "\n",
    "# Input the number of elements in the list\n",
    "try:\n",
    "    num_elements = int(input(\"Enter the number of elements in the list: \"))\n",
    "except ValueError:\n",
    "    print(\"Please enter a valid number.\")\n",
    "    exit(1)\n",
    "\n",
    "# Input a list of numbers from the user one element at a time\n",
    "input_list = []\n",
    "for i in range(num_elements):\n",
    "    try:\n",
    "        element = int(input(f\"Enter element {i + 1}: \"))\n",
    "        input_list.append(element)\n",
    "    except ValueError:\n",
    "        print(\"Invalid input. Please enter a valid number.\")\n",
    "        exit(1)\n",
    "\n",
    "# Input the element to count\n",
    "element_to_count = int(input(\"Enter the element to count: \"))\n",
    "\n",
    "# Call the count_occurrences function to count the element in the list\n",
    "occurrences = count_occurrences(element_to_count, input_list)\n",
    "\n",
    "# Display the result\n",
    "print(f\"The element {element_to_count} appears {occurrences} times in the list.\")\n",
    "\n"
   ]
  },
  {
   "cell_type": "code",
   "execution_count": null,
   "id": "1addb560",
   "metadata": {},
   "outputs": [],
   "source": []
  }
 ],
 "metadata": {
  "kernelspec": {
   "display_name": "Python 3 (ipykernel)",
   "language": "python",
   "name": "python3"
  },
  "language_info": {
   "codemirror_mode": {
    "name": "ipython",
    "version": 3
   },
   "file_extension": ".py",
   "mimetype": "text/x-python",
   "name": "python",
   "nbconvert_exporter": "python",
   "pygments_lexer": "ipython3",
   "version": "3.9.12"
  }
 },
 "nbformat": 4,
 "nbformat_minor": 5
}
