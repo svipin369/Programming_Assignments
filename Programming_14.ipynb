{
 "cells": [
  {
   "cell_type": "code",
   "execution_count": 1,
   "id": "1f893eee",
   "metadata": {},
   "outputs": [
    {
     "name": "stdout",
     "output_type": "stream",
     "text": [
      "Enter the value of n: 50\n",
      "0\n",
      "7\n",
      "14\n",
      "21\n",
      "28\n",
      "35\n",
      "42\n",
      "49\n"
     ]
    }
   ],
   "source": [
    "# Question 1- Define a class with a generator which can iterate the numbers, which are divisible by 7, between a given range 0 and n\n",
    "\n",
    "class DivisibleBySeven:\n",
    "    def __init__(self, n):\n",
    "        self.n = n\n",
    "\n",
    "    def generate_numbers(self):\n",
    "        for num in range(self.n + 1):\n",
    "            if num % 7 == 0:\n",
    "                yield num\n",
    "\n",
    "# Example usage:\n",
    "n = int(input(\"Enter the value of n: \"))\n",
    "divisible_by_seven = DivisibleBySeven(n)\n",
    "for num in divisible_by_seven.generate_numbers():\n",
    "    print(num)\n"
   ]
  },
  {
   "cell_type": "code",
   "execution_count": 2,
   "id": "4e57432b",
   "metadata": {},
   "outputs": [
    {
     "name": "stdout",
     "output_type": "stream",
     "text": [
      "Enter a sentence: New to Python or choosing between Python 2 and Python 3? Read Python 2 or Python 3.\n",
      "2:2\n",
      "3:2\n",
      "and:1\n",
      "between:1\n",
      "choosing:1\n",
      "new:1\n",
      "or:2\n",
      "python:5\n",
      "read:1\n",
      "to:1\n"
     ]
    }
   ],
   "source": [
    "# Question 2- Write a program to compute the frequency of the words from the input. The output should output after sorting the key alphanumerically. \n",
    "\n",
    "# Input the sentence\n",
    "input_sentence = input(\"Enter a sentence: \")\n",
    "\n",
    "# Split the sentence into words\n",
    "words = input_sentence.split()\n",
    "\n",
    "# Initialize a dictionary to store word frequencies\n",
    "word_freq = {}\n",
    "\n",
    "# Count the frequency of each word\n",
    "for word in words:\n",
    "    # Remove punctuation marks from the word (e.g., '?', '.', ',')\n",
    "    word = word.strip(\".,?!\")\n",
    "    \n",
    "    # Convert the word to lowercase to ensure case-insensitive counting\n",
    "    word = word.lower()\n",
    "    \n",
    "    # Increment the word frequency in the dictionary\n",
    "    if word in word_freq:\n",
    "        word_freq[word] += 1\n",
    "    else:\n",
    "        word_freq[word] = 1\n",
    "\n",
    "# Sort the dictionary by keys (words) alphanumerically\n",
    "sorted_word_freq = sorted(word_freq.items())\n",
    "\n",
    "# Print the sorted word frequencies\n",
    "for word, freq in sorted_word_freq:\n",
    "    print(f\"{word}:{freq}\")\n"
   ]
  },
  {
   "cell_type": "code",
   "execution_count": 3,
   "id": "066e0875",
   "metadata": {
    "scrolled": true
   },
   "outputs": [
    {
     "name": "stdout",
     "output_type": "stream",
     "text": [
      "Male\n",
      "Female\n"
     ]
    }
   ],
   "source": [
    "# Question 3- Define a class Person and its two child classes: Male and Female. All classes have a method \"getGender\" which can print \"Male\" for Male class and \"Female\" for Female class\n",
    "\n",
    "class Person:\n",
    "    def getGender(self):\n",
    "        pass\n",
    "\n",
    "class Male(Person):\n",
    "    def getGender(self):\n",
    "        return \"Male\"\n",
    "\n",
    "class Female(Person):\n",
    "    def getGender(self):\n",
    "        return \"Female\"\n",
    "\n",
    "# Example usage:\n",
    "male_person = Male()\n",
    "female_person = Female()\n",
    "\n",
    "print(male_person.getGender())   # Output: \"Male\"\n",
    "print(female_person.getGender()) # Output: \"Female\"\n"
   ]
  },
  {
   "cell_type": "code",
   "execution_count": 4,
   "id": "712b7a65",
   "metadata": {},
   "outputs": [
    {
     "name": "stdout",
     "output_type": "stream",
     "text": [
      "I Play Hockey.\n",
      "I Play Football.\n",
      "I Love Hockey.\n",
      "I Love Football.\n",
      "You Play Hockey.\n",
      "You Play Football.\n",
      "You Love Hockey.\n",
      "You Love Football.\n"
     ]
    }
   ],
   "source": [
    "# Question 4- write a program to generate all sentences where subject is in [\"I\", \"You\"] and verb is in [\"Play\", \"Love\"] and the object is in [\"Hockey\",\"Football\"].\n",
    "\n",
    "subjects = [\"I\", \"You\"]\n",
    "verbs = [\"Play\", \"Love\"]\n",
    "objects = [\"Hockey\", \"Football\"]\n",
    "\n",
    "# Generate and print all sentences\n",
    "for subject in subjects:\n",
    "    for verb in verbs:\n",
    "        for obj in objects:\n",
    "            sentence = f\"{subject} {verb} {obj}.\"\n",
    "            print(sentence)\n"
   ]
  },
  {
   "cell_type": "code",
   "execution_count": 5,
   "id": "b509ae3d",
   "metadata": {},
   "outputs": [
    {
     "name": "stdout",
     "output_type": "stream",
     "text": [
      "Original String: hello world!hello world!hello world!hello world!\n",
      "Compressed Data: b'x\\x9c\\xcbH\\xcd\\xc9\\xc9W(\\xcf/\\xcaIQ\\xcc \\x82\\r\\x00\\xbd[\\x11\\xf5'\n",
      "Decompressed String: hello world!hello world!hello world!hello world!\n"
     ]
    }
   ],
   "source": [
    "# Question 5- Please write a program to compress and decompress the string \"hello world!hello world!hello world!hello world!\".\n",
    "\n",
    "import zlib\n",
    "\n",
    "# Original string\n",
    "original_string = \"hello world!hello world!hello world!hello world!\"\n",
    "\n",
    "# Compress the string\n",
    "compressed_data = zlib.compress(original_string.encode())\n",
    "\n",
    "# Decompress the string\n",
    "decompressed_data = zlib.decompress(compressed_data)\n",
    "\n",
    "# Convert the decompressed data back to a string\n",
    "decompressed_string = decompressed_data.decode()\n",
    "\n",
    "# Print the results\n",
    "print(\"Original String:\", original_string)\n",
    "print(\"Compressed Data:\", compressed_data)\n",
    "print(\"Decompressed String:\", decompressed_string)\n"
   ]
  },
  {
   "cell_type": "code",
   "execution_count": 7,
   "id": "90d8802d",
   "metadata": {},
   "outputs": [
    {
     "name": "stdout",
     "output_type": "stream",
     "text": [
      "Enter a list of numbers separated by spaces: 1 2 9 3 4 5 7 6\n",
      "Sorted List: [1, 2, 3, 4, 5, 6, 7, 9]\n",
      "Enter the element to search for: 5\n",
      "Element 5 found at index 4.\n"
     ]
    }
   ],
   "source": [
    "# Question 6 -Please write a binary search function which searches an item in a sorted list. The function should return the index of element to be searched in the list.\n",
    "\n",
    "# Binary search function\n",
    "def binary_search(arr, target):\n",
    "    left, right = 0, len(arr) - 1\n",
    "\n",
    "    while left <= right:\n",
    "        mid = left + (right - left) // 2\n",
    "\n",
    "        if arr[mid] == target:\n",
    "            return mid\n",
    "        elif arr[mid] < target:\n",
    "            left = mid + 1\n",
    "        else:\n",
    "            right = mid - 1\n",
    "\n",
    "    return -1\n",
    "\n",
    "# Input a list of numbers from the user\n",
    "input_str = input(\"Enter a list of numbers separated by spaces: \")\n",
    "\n",
    "# Split the input into a list of strings\n",
    "input_list = input_str.split()\n",
    "\n",
    "# Initialize an empty list to store integers\n",
    "sorted_list = []\n",
    "\n",
    "# Try to convert input values to integers and handle invalid inputs\n",
    "for item in input_list:\n",
    "    try:\n",
    "        num = int(item)\n",
    "        sorted_list.append(num)\n",
    "    except ValueError:\n",
    "        print(f\"Skipping invalid input: {item}\")\n",
    "\n",
    "# Sort the list\n",
    "sorted_list.sort()\n",
    "\n",
    "# Display the sorted list\n",
    "print(\"Sorted List:\", sorted_list)\n",
    "\n",
    "# Input the target element to search for\n",
    "target_str = input(\"Enter the element to search for: \")\n",
    "\n",
    "# Try to convert the target input to an integer\n",
    "try:\n",
    "    target = int(target_str)\n",
    "except ValueError:\n",
    "    print(\"Invalid target input. Please enter an integer.\")\n",
    "else:\n",
    "    # Perform binary search\n",
    "    result = binary_search(sorted_list, target)\n",
    "\n",
    "    # Print the result\n",
    "    if result != -1:\n",
    "        print(f\"Element {target} found at index {result}.\")\n",
    "    else:\n",
    "        print(f\"Element {target} not found in the list.\")\n"
   ]
  },
  {
   "cell_type": "code",
   "execution_count": null,
   "id": "a7a159af",
   "metadata": {},
   "outputs": [],
   "source": []
  }
 ],
 "metadata": {
  "kernelspec": {
   "display_name": "Python 3 (ipykernel)",
   "language": "python",
   "name": "python3"
  },
  "language_info": {
   "codemirror_mode": {
    "name": "ipython",
    "version": 3
   },
   "file_extension": ".py",
   "mimetype": "text/x-python",
   "name": "python",
   "nbconvert_exporter": "python",
   "pygments_lexer": "ipython3",
   "version": "3.9.12"
  }
 },
 "nbformat": 4,
 "nbformat_minor": 5
}
