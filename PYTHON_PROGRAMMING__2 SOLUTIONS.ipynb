{
 "cells": [
  {
   "cell_type": "code",
   "execution_count": 1,
   "id": "4662c6f4-940b-4e11-8137-86e489abf0cf",
   "metadata": {},
   "outputs": [
    {
     "name": "stdin",
     "output_type": "stream",
     "text": [
      "Enter distance in kilometers:  24\n"
     ]
    },
    {
     "name": "stdout",
     "output_type": "stream",
     "text": [
      "24.0 kilometers is equal to 14.912904000000001 miles.\n"
     ]
    }
   ],
   "source": [
    "               ## 1.Kilometre to Miles ###\n",
    "def km_to_miles(kilometers):\n",
    "    miles = kilometers * 0.621371\n",
    "    return miles\n",
    "\n",
    "kilometers = float(input(\"Enter distance in kilometers: \"))\n",
    "result = km_to_miles(kilometers)\n",
    "print(f\"{kilometers} kilometers is equal to {result} miles.\")"
   ]
  },
  {
   "cell_type": "code",
   "execution_count": 2,
   "id": "0e3d9726-6c44-48d7-9daa-727c2cea0b7a",
   "metadata": {},
   "outputs": [
    {
     "name": "stdin",
     "output_type": "stream",
     "text": [
      "Enter temperature in Celsius:  23\n"
     ]
    },
    {
     "name": "stdout",
     "output_type": "stream",
     "text": [
      "23.0 degrees Celsius is equal to 73.4 degrees Fahrenheit.\n"
     ]
    }
   ],
   "source": [
    "                        ## 2. Celsius to Fahrenheit ##\n",
    "def C_to_F(C):\n",
    "    F = (C * 9/5) + 32\n",
    "    return F\n",
    "\n",
    "\n",
    "C = float(input(\"Enter temperature in Celsius: \"))\n",
    "F_out = C_to_F(C)\n",
    "print(f\"{C} degrees Celsius is equal to {F_out} degrees Fahrenheit.\")"
   ]
  },
  {
   "cell_type": "code",
   "execution_count": 3,
   "id": "f3fc763f-735d-4348-9b67-7bc4a5271ecf",
   "metadata": {},
   "outputs": [
    {
     "name": "stdin",
     "output_type": "stream",
     "text": [
      "Enter your choice :\n",
      " 1)Display Calendar for entire year\n",
      " 2)Display Calendar for particular year and month:  \n",
      " 1\n",
      "Enter the entire year for which you want to display the calendar:   2000\n"
     ]
    },
    {
     "name": "stdout",
     "output_type": "stream",
     "text": [
      "\n",
      "Calendar for year 2000 :  \n",
      "\n",
      "                                  2000\n",
      "\n",
      "      January                   February                   March\n",
      "Mo Tu We Th Fr Sa Su      Mo Tu We Th Fr Sa Su      Mo Tu We Th Fr Sa Su\n",
      "                1  2          1  2  3  4  5  6             1  2  3  4  5\n",
      " 3  4  5  6  7  8  9       7  8  9 10 11 12 13       6  7  8  9 10 11 12\n",
      "10 11 12 13 14 15 16      14 15 16 17 18 19 20      13 14 15 16 17 18 19\n",
      "17 18 19 20 21 22 23      21 22 23 24 25 26 27      20 21 22 23 24 25 26\n",
      "24 25 26 27 28 29 30      28 29                     27 28 29 30 31\n",
      "31\n",
      "\n",
      "       April                      May                       June\n",
      "Mo Tu We Th Fr Sa Su      Mo Tu We Th Fr Sa Su      Mo Tu We Th Fr Sa Su\n",
      "                1  2       1  2  3  4  5  6  7                1  2  3  4\n",
      " 3  4  5  6  7  8  9       8  9 10 11 12 13 14       5  6  7  8  9 10 11\n",
      "10 11 12 13 14 15 16      15 16 17 18 19 20 21      12 13 14 15 16 17 18\n",
      "17 18 19 20 21 22 23      22 23 24 25 26 27 28      19 20 21 22 23 24 25\n",
      "24 25 26 27 28 29 30      29 30 31                  26 27 28 29 30\n",
      "\n",
      "        July                     August                  September\n",
      "Mo Tu We Th Fr Sa Su      Mo Tu We Th Fr Sa Su      Mo Tu We Th Fr Sa Su\n",
      "                1  2          1  2  3  4  5  6                   1  2  3\n",
      " 3  4  5  6  7  8  9       7  8  9 10 11 12 13       4  5  6  7  8  9 10\n",
      "10 11 12 13 14 15 16      14 15 16 17 18 19 20      11 12 13 14 15 16 17\n",
      "17 18 19 20 21 22 23      21 22 23 24 25 26 27      18 19 20 21 22 23 24\n",
      "24 25 26 27 28 29 30      28 29 30 31               25 26 27 28 29 30\n",
      "31\n",
      "\n",
      "      October                   November                  December\n",
      "Mo Tu We Th Fr Sa Su      Mo Tu We Th Fr Sa Su      Mo Tu We Th Fr Sa Su\n",
      "                   1             1  2  3  4  5                   1  2  3\n",
      " 2  3  4  5  6  7  8       6  7  8  9 10 11 12       4  5  6  7  8  9 10\n",
      " 9 10 11 12 13 14 15      13 14 15 16 17 18 19      11 12 13 14 15 16 17\n",
      "16 17 18 19 20 21 22      20 21 22 23 24 25 26      18 19 20 21 22 23 24\n",
      "23 24 25 26 27 28 29      27 28 29 30               25 26 27 28 29 30 31\n",
      "30 31\n",
      "\n"
     ]
    }
   ],
   "source": [
    "                               ## 3. Display Calendar ###\n",
    "\n",
    "import  calendar\n",
    "def display_year():\n",
    "    year=int(input(\"Enter the entire year for which you want to display the calendar:  \"))\n",
    "    cal=calendar.calendar(year)\n",
    "    print(f\"\\nCalendar for year {year} :  \\n\")\n",
    "    print(cal)\n",
    "\n",
    "def display_month():\n",
    "    year=int(input(\"Enter the year for which you want to display a particular month:  \"))\n",
    "    month=int(input(\"Enter the month you want to display:  \"))\n",
    "    cal=calendar.month(year,month)\n",
    "    print(f\"\\n Calendar for{calendar.month_name[month]} {year} :  \\n\")\n",
    "    print(cal)\n",
    "\n",
    "def main():\n",
    "   choice=input(\"Enter your choice :\\n 1)Display Calendar for entire year\\n 2)Display Calendar for particular year and month:  \\n\")\n",
    "   if choice=='1':\n",
    "       display_year()\n",
    "   elif choice=='2':\n",
    "       display_month()\n",
    "\n",
    "   else:\n",
    "       print(\"Invalid choice !!! please enter '1' or '2' \")\n",
    "\n",
    "\n",
    "main()"
   ]
  },
  {
   "cell_type": "code",
   "execution_count": 4,
   "id": "5b29081c-d92a-4301-a16a-37db5ee87704",
   "metadata": {},
   "outputs": [
    {
     "name": "stdin",
     "output_type": "stream",
     "text": [
      "Enter the coefficient of x^2:   2\n",
      "Enter the coefficient of x:   6\n",
      "Enter the constant term:   8\n"
     ]
    },
    {
     "name": "stdout",
     "output_type": "stream",
     "text": [
      "The solution of quadratic equation are:  \n",
      "x=  No Real Solution\n"
     ]
    }
   ],
   "source": [
    "                                  ## 4.Quadratic Equation ##\n",
    "\n",
    "import math\n",
    "def quadratic(a,b,c):\n",
    "    discriminant=b**2-4*a*c\n",
    "\n",
    "    if discriminant >0:\n",
    "        x1=(-b+math.sqrt(discriminant))/(2*a)\n",
    "        x2=(-b-math.sqrt(discriminant))/(2*a)\n",
    "        return x1,x2\n",
    "    elif discriminant==0:\n",
    "        x=-b/(2*a)\n",
    "        return x\n",
    "    else:\n",
    "        return \"No Real Solution\"\n",
    "a=float(input(\"Enter the coefficient of x^2:  \"))\n",
    "b=float(input(\"Enter the coefficient of x:  \"))\n",
    "c=float(input(\"Enter the constant term:  \"))\n",
    "\n",
    "solution=quadratic(a,b,c)\n",
    "print(\"The solution of quadratic equation are:  \")\n",
    "if isinstance(solution,tuple):\n",
    "    x1,x2=solution\n",
    "    print(\"x1=  \",x1)\n",
    "    print(\"x2=  \",x2)\n",
    "else:\n",
    "    print(\"x= \", solution) "
   ]
  },
  {
   "cell_type": "code",
   "execution_count": 5,
   "id": "5eb56b03-49a8-426d-ae83-50bbc7204a3d",
   "metadata": {},
   "outputs": [
    {
     "name": "stdin",
     "output_type": "stream",
     "text": [
      "Enter the value of variable a:  2\n",
      "Enter the value of variable b:  4\n"
     ]
    },
    {
     "name": "stdout",
     "output_type": "stream",
     "text": [
      "Before swapping:\n",
      "a = 2\n",
      "b = 4\n",
      "After swapping:\n",
      "a = 4\n",
      "b = 2\n"
     ]
    }
   ],
   "source": [
    "                     ## 5. Swapping without Using Temp ##\n",
    "\n",
    "a = input(\"Enter the value of variable a: \")\n",
    "b = input(\"Enter the value of variable b: \")\n",
    "\n",
    "print(\"Before swapping:\")\n",
    "print(\"a =\", a)\n",
    "print(\"b =\", b)\n",
    "\n",
    "a, b = b, a\n",
    "\n",
    "print(\"After swapping:\")\n",
    "print(\"a =\", a)\n",
    "print(\"b =\", b)"
   ]
  },
  {
   "cell_type": "code",
   "execution_count": null,
   "id": "bd0e7bfb-1a6b-4b56-b425-3fa21a7dab45",
   "metadata": {},
   "outputs": [],
   "source": []
  }
 ],
 "metadata": {
  "kernelspec": {
   "display_name": "Python 3 (ipykernel)",
   "language": "python",
   "name": "python3"
  },
  "language_info": {
   "codemirror_mode": {
    "name": "ipython",
    "version": 3
   },
   "file_extension": ".py",
   "mimetype": "text/x-python",
   "name": "python",
   "nbconvert_exporter": "python",
   "pygments_lexer": "ipython3",
   "version": "3.10.6"
  }
 },
 "nbformat": 4,
 "nbformat_minor": 5
}
