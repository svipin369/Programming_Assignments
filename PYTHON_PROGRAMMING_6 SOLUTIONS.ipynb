{
 "cells": [
  {
   "cell_type": "code",
   "execution_count": 1,
   "id": "95654514",
   "metadata": {},
   "outputs": [
    {
     "name": "stdout",
     "output_type": "stream",
     "text": [
      "Enter the number of terms: 5\n",
      "Fibonacci sequence:\n",
      "[0, 1, 1, 2, 3]\n"
     ]
    }
   ],
   "source": [
    "### Q1. Fibonacci using Recursion ####\n",
    "\n",
    "def fibonacci(n):\n",
    "    if n == 0:\n",
    "        return 0\n",
    "    elif n == 1:\n",
    "        return 1\n",
    "    else:\n",
    "        return fibonacci(n - 1) + fibonacci(n - 2)\n",
    "total_terms = int(input(\"Enter the number of terms: \"))\n",
    "\n",
    "fib_series = []\n",
    "for i in range(total_terms):\n",
    "    fib_series.append(fibonacci(i))\n",
    "\n",
    "print(\"Fibonacci sequence:\")\n",
    "print(fib_series)"
   ]
  },
  {
   "cell_type": "code",
   "execution_count": 3,
   "id": "0b67e546",
   "metadata": {},
   "outputs": [
    {
     "name": "stdout",
     "output_type": "stream",
     "text": [
      "Enter a number: 5\n",
      "Factorial of 5 is 120\n"
     ]
    }
   ],
   "source": [
    "#### Q2. Factorial using Recursion ####\n",
    "\n",
    "def factorial(n):\n",
    "    if n == 0:\n",
    "        return 1\n",
    "    else:\n",
    "        return n * factorial(n - 1)\n",
    "number = int(input(\"Enter a number: \"))\n",
    "result = factorial(number)\n",
    "print(\"Factorial of\", number, \"is\", result)"
   ]
  },
  {
   "cell_type": "code",
   "execution_count": 4,
   "id": "f15be959",
   "metadata": {},
   "outputs": [
    {
     "name": "stdout",
     "output_type": "stream",
     "text": [
      "Enter your weight in kilograms: 68\n",
      "Enter your height in meters: 1.86\n",
      "Your BMI is: 19.65545149728292\n"
     ]
    }
   ],
   "source": [
    "##### Q3. BMI(body mass index) Calculation ####\n",
    "\n",
    "def BMI(weight, height):\n",
    "    bmi = weight / (height ** 2)\n",
    "    return bmi\n",
    "weight = float(input(\"Enter your weight in kilograms: \"))\n",
    "height = float(input(\"Enter your height in meters: \"))\n",
    "\n",
    "bmi = BMI(weight, height)\n",
    "print(\"Your BMI is:\", bmi)"
   ]
  },
  {
   "cell_type": "code",
   "execution_count": 9,
   "id": "acde69db",
   "metadata": {},
   "outputs": [
    {
     "name": "stdout",
     "output_type": "stream",
     "text": [
      "Enter a number: 12\n",
      "The natural logarithm of 12.0 is 2.4849066497880004\n"
     ]
    }
   ],
   "source": [
    "##### Q4.Natural Logarithm of a Number ###\n",
    "\n",
    "import math\n",
    "number = float(input(\"Enter a number: \"))\n",
    "result = math.log(number)\n",
    "print(\"The natural logarithm of\", number, \"is\", result)"
   ]
  },
  {
   "cell_type": "code",
   "execution_count": 11,
   "id": "35efbd61",
   "metadata": {},
   "outputs": [
    {
     "name": "stdout",
     "output_type": "stream",
     "text": [
      "Enter value upto which you want to print cube sum of natural numbers: 4\n",
      "The cube sum of the first 4 natural numbers is 100\n"
     ]
    }
   ],
   "source": [
    "##### Q5. Cube Sum of First n Natural Numbers ####\n",
    "\n",
    "def cube_sum(n):\n",
    "    if n <= 0:\n",
    "        return \"Invalid input. The number must be positive.\"\n",
    "\n",
    "    sum = 0\n",
    "    for i in range(1, n+1):\n",
    "        sum += i ** 3\n",
    "    return sum\n",
    "num = int(input(\"Enter value upto which you want to print cube sum of natural numbers: \"))\n",
    "total_sum = cube_sum(num)\n",
    "print(\"The cube sum of the first\", num, \"natural numbers is\", total_sum)"
   ]
  },
  {
   "cell_type": "code",
   "execution_count": null,
   "id": "66a9f7a2",
   "metadata": {},
   "outputs": [],
   "source": []
  }
 ],
 "metadata": {
  "kernelspec": {
   "display_name": "Python 3 (ipykernel)",
   "language": "python",
   "name": "python3"
  },
  "language_info": {
   "codemirror_mode": {
    "name": "ipython",
    "version": 3
   },
   "file_extension": ".py",
   "mimetype": "text/x-python",
   "name": "python",
   "nbconvert_exporter": "python",
   "pygments_lexer": "ipython3",
   "version": "3.9.12"
  }
 },
 "nbformat": 4,
 "nbformat_minor": 5
}
