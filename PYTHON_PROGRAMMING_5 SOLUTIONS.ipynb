{
 "cells": [
  {
   "cell_type": "code",
   "execution_count": 1,
   "id": "5271c3ae",
   "metadata": {},
   "outputs": [
    {
     "name": "stdout",
     "output_type": "stream",
     "text": [
      "Enter the first number: 12\n",
      "Enter the second number: 6\n",
      "LCM of 12 and 6 is 12\n"
     ]
    }
   ],
   "source": [
    "### Q1. LCM of two Numbers ####\n",
    "\n",
    "def LCM(num1, num2):\n",
    "    \n",
    "    max_num = max(num1, num2)\n",
    "\n",
    "    while True:\n",
    "       \n",
    "        if max_num % num1 == 0 and max_num % num2 == 0:\n",
    "            lcm = max_num\n",
    "            break\n",
    "        max_num += max(num1,num2)\n",
    "\n",
    "    return lcm\n",
    "\n",
    "\n",
    "num1 = int(input(\"Enter the first number: \"))\n",
    "num2 = int(input(\"Enter the second number: \"))\n",
    "\n",
    "result = LCM(num1, num2)\n",
    "print(\"LCM of\", num1, \"and\", num2, \"is\", result)"
   ]
  },
  {
   "cell_type": "code",
   "execution_count": 3,
   "id": "409db174",
   "metadata": {},
   "outputs": [
    {
     "name": "stdout",
     "output_type": "stream",
     "text": [
      "Enter the first number: 5\n",
      "Enter the second number: 6\n",
      "HCF of 5 and 6 is 1\n"
     ]
    }
   ],
   "source": [
    "#### Q2. HCF of Two Numbers ####\n",
    "\n",
    "def HCF(num1, num2):\n",
    "    min_num = min(num1, num2)\n",
    "    hcf = 1\n",
    "    for i in range(2, min_num + 1):\n",
    "        if num1 % i == 0 and num2 % i == 0:\n",
    "            hcf = i\n",
    "        return hcf\n",
    "\n",
    "num1 = int(input(\"Enter the first number: \"))\n",
    "num2 = int(input(\"Enter the second number: \"))\n",
    "\n",
    "result = HCF(num1, num2)\n",
    "print(\"HCF of\", num1, \"and\", num2, \"is\", result)"
   ]
  },
  {
   "cell_type": "code",
   "execution_count": 6,
   "id": "69977a2e",
   "metadata": {},
   "outputs": [
    {
     "name": "stdout",
     "output_type": "stream",
     "text": [
      "Enter a decimal number: \n",
      "12\n",
      "Enter your choice:\n",
      "1. Convert to binary\n",
      "2. Convert to octal\n",
      "3. Convert to hexadecimal\n",
      "1\n",
      "Converted value: 1100\n"
     ]
    }
   ],
   "source": [
    "## Decimal to Octal, binary and Hexadecimal ###\n",
    "\n",
    "def dec_to_bin(decimal):\n",
    "    binary = \"\"\n",
    "    while decimal > 0:\n",
    "        binary = str(decimal % 2) + binary\n",
    "        decimal//= 2\n",
    "    return binary\n",
    "\n",
    "\n",
    "def dec_to_oct(decimal):\n",
    "    octal = \"\"\n",
    "    while decimal > 0:\n",
    "        octal = str(decimal % 8) + octal\n",
    "        decimal//=8\n",
    "    return octal\n",
    "\n",
    "\n",
    "def dec_to_hexadec(decimal):\n",
    "    hexadecimal = \"\"\n",
    "    hex_map = \"0123456789ABCDEF\"\n",
    "    while decimal > 0:\n",
    "        hexadecimal = hex_map[decimal % 16] + hexadecimal\n",
    "        decimal//=16\n",
    "    return hexadecimal\n",
    "\n",
    "\n",
    "decimal = int(input(\"Enter a decimal number: \\n\"))\n",
    "choice = int(input(\"Enter your choice:\\n1. Convert to binary\\n2. Convert to octal\\n3. Convert to hexadecimal\\n\"))\n",
    "\n",
    "if choice == 1:\n",
    "    result = dec_to_bin(decimal)\n",
    "elif choice == 2:\n",
    "    result = dec_to_oct(decimal)\n",
    "elif choice == 3:\n",
    "    result = dec_to_hexadec(decimal)\n",
    "else:\n",
    "    print(\"Invalid choice.\")\n",
    "    exit()\n",
    "\n",
    "print(\"Converted value:\", result)"
   ]
  },
  {
   "cell_type": "code",
   "execution_count": 9,
   "id": "859bb55a",
   "metadata": {},
   "outputs": [
    {
     "name": "stdout",
     "output_type": "stream",
     "text": [
      "Enter a character: A\n",
      "ASCII value of A is 65\n"
     ]
    }
   ],
   "source": [
    "### Q4. ASCII Value of Character\n",
    "\n",
    "character = input(\"Enter a character: \")\n",
    "\n",
    "if len(character) != 1:\n",
    "    print(\"Please enter a single character.\")\n",
    "else:\n",
    "    ascii_value = ord(character)\n",
    "    print(\"ASCII value of\", character, \"is\", ascii_value)"
   ]
  },
  {
   "cell_type": "code",
   "execution_count": 10,
   "id": "fc968950",
   "metadata": {},
   "outputs": [
    {
     "name": "stdout",
     "output_type": "stream",
     "text": [
      "Select operation.\n",
      "1.Add\n",
      "2.Subtract\n",
      "3.Multiply\n",
      "4.Divide\n",
      "Enter choice(1/2/3/4): 1\n",
      "Enter first number: 23\n",
      "Enter second number: 45\n",
      "Addition of numbers is:   68.0\n"
     ]
    }
   ],
   "source": [
    "### Q5. Simple Calculator ####\n",
    "\n",
    "def add(x, y):\n",
    "    return x + y\n",
    "\n",
    "def subtract(x, y):\n",
    "    return x - y\n",
    "\n",
    "def multiply(x, y):\n",
    "    return x * y\n",
    "\n",
    "def divide(x, y):\n",
    "    return x / y\n",
    "\n",
    "print(\"Select operation.\")\n",
    "print(\"1.Add\")\n",
    "print(\"2.Subtract\")\n",
    "print(\"3.Multiply\")\n",
    "print(\"4.Divide\")\n",
    "\n",
    "while True:\n",
    "    choice = input(\"Enter choice(1/2/3/4): \")\n",
    "    if choice in ('1', '2', '3', '4'):\n",
    "        num1 = float(input(\"Enter first number: \"))\n",
    "        num2 = float(input(\"Enter second number: \"))\n",
    "\n",
    "        if choice == '1':\n",
    "            print(\"Addition of numbers is:  \", add(num1, num2))\n",
    "\n",
    "        elif choice == '2':\n",
    "            print(num1, \"-\", num2, \"=\", subtract(num1, num2))\n",
    "\n",
    "        elif choice == '3':\n",
    "            print(\"Multiplication of numbers is : \", multiply(num1, num2))\n",
    "\n",
    "        elif choice == '4':\n",
    "            print(\"Divison of numbers is : \", divide(num1, num2))\n",
    "        break\n",
    "    else:\n",
    "        print(\"Invalid Input\")\n"
   ]
  },
  {
   "cell_type": "code",
   "execution_count": null,
   "id": "1a1be979",
   "metadata": {},
   "outputs": [],
   "source": []
  }
 ],
 "metadata": {
  "kernelspec": {
   "display_name": "Python 3 (ipykernel)",
   "language": "python",
   "name": "python3"
  },
  "language_info": {
   "codemirror_mode": {
    "name": "ipython",
    "version": 3
   },
   "file_extension": ".py",
   "mimetype": "text/x-python",
   "name": "python",
   "nbconvert_exporter": "python",
   "pygments_lexer": "ipython3",
   "version": "3.9.12"
  }
 },
 "nbformat": 4,
 "nbformat_minor": 5
}
