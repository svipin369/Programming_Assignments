{
 "cells": [
  {
   "cell_type": "markdown",
   "id": "0a45bc42",
   "metadata": {},
   "source": []
  },
  {
   "cell_type": "code",
   "execution_count": 3,
   "id": "c61e2cdd",
   "metadata": {},
   "outputs": [
    {
     "name": "stdout",
     "output_type": "stream",
     "text": [
      "Enter a text: my name is vipin\n",
      "Enter the minimum word length (k): 2\n",
      "Words greater than length 2:\n",
      "name\n",
      "vipin\n"
     ]
    }
   ],
   "source": [
    "#Question 1-Find words greater than length k\n",
    "\n",
    "def find_words_greater_than_k(text, k):\n",
    "    words = text.split()\n",
    "    result = [word for word in words if len(word) > k]\n",
    "    return result\n",
    "\n",
    "# Input the text\n",
    "text = input(\"Enter a text: \")\n",
    "\n",
    "# Input the value of k\n",
    "try:\n",
    "    k = int(input(\"Enter the minimum word length (k): \"))\n",
    "except ValueError:\n",
    "    print(\"Please enter a valid number for k.\")\n",
    "    exit(1)\n",
    "\n",
    "# Call the function to find words greater than length k\n",
    "filtered_words = find_words_greater_than_k(text, k)\n",
    "\n",
    "# Display the result\n",
    "if filtered_words:\n",
    "    print(f\"Words greater than length {k}:\")\n",
    "    for word in filtered_words:\n",
    "        print(word)\n",
    "else:\n",
    "    print(f\"No words greater than length {k} found in the text.\")\n"
   ]
  },
  {
   "cell_type": "code",
   "execution_count": 4,
   "id": "a3c97dbe",
   "metadata": {},
   "outputs": [
    {
     "name": "stdout",
     "output_type": "stream",
     "text": [
      "Enter a string: games\n",
      "Enter the index of the character to remove (0-based index): 0\n",
      "Resulting string: ames\n"
     ]
    }
   ],
   "source": [
    "# Question2- Program to remove the i-th character from a string\n",
    "def remove_character(input_string, i):\n",
    "    if i < 0 or i >= len(input_string):\n",
    "        print(\"Invalid index. The string remains unchanged.\")\n",
    "        return input_string\n",
    "    else:\n",
    "        return input_string[:i] + input_string[i + 1:]\n",
    "\n",
    "input_string = input(\"Enter a string: \")\n",
    "try:\n",
    "    i = int(input(\"Enter the index of the character to remove (0-based index): \"))\n",
    "except ValueError:\n",
    "    print(\"Please enter a valid index.\")\n",
    "    exit(1)\n",
    "\n",
    "# Call the function to remove the character\n",
    "result_string = remove_character(input_string, i)\n",
    "\n",
    "print(\"Resulting string:\", result_string)\n"
   ]
  },
  {
   "cell_type": "code",
   "execution_count": 9,
   "id": "84cf8a6e",
   "metadata": {},
   "outputs": [
    {
     "name": "stdout",
     "output_type": "stream",
     "text": [
      "Enter a string: this is the best game i have played\n",
      "List of words: ['this', 'is', 'the', 'best', 'game', 'i', 'have', 'played']\n",
      "Resulting string: this is the best game i have played\n"
     ]
    }
   ],
   "source": [
    "# QUESTION 3- Program to join a list of words into a single string\n",
    "\n",
    "def split_string(input_string):\n",
    "    words = input_string.split()\n",
    "    return words\n",
    "\n",
    "# Function to join a list of words into a single string\n",
    "def join_string(words):\n",
    "    return ' '.join(words)\n",
    "\n",
    "# Input the string\n",
    "input_string = input(\"Enter a string: \")\n",
    "\n",
    "# Call the function to split the string\n",
    "word_list = split_string(input_string)\n",
    "\n",
    "# Display the list of words\n",
    "print(\"List of words:\", word_list)\n",
    "\n",
    "# Call the function to join the list of words into a single string\n",
    "result_string = join_string(word_list)\n",
    "\n",
    "# Display the resulting string\n",
    "print(\"Resulting string:\", result_string)\n",
    "\n",
    "\n"
   ]
  },
  {
   "cell_type": "code",
   "execution_count": 10,
   "id": "b1196653",
   "metadata": {},
   "outputs": [
    {
     "name": "stdout",
     "output_type": "stream",
     "text": [
      "Enter a string: 011110\n",
      "The input string is a binary string.\n"
     ]
    }
   ],
   "source": [
    "#Question-4. Program to check string is binary or not\n",
    "\n",
    "def is_binary_string(input_string):\n",
    "    for char in input_string:\n",
    "        if char not in ['0', '1']:\n",
    "            return False\n",
    "    return True\n",
    "input_string = input(\"Enter a string: \")\n",
    "if is_binary_string(input_string):\n",
    "    print(\"The input string is a binary string.\")\n",
    "else:\n",
    "    print(\"The input string is not a binary string.\")"
   ]
  },
  {
   "cell_type": "code",
   "execution_count": 11,
   "id": "f57a6699",
   "metadata": {},
   "outputs": [
    {
     "name": "stdout",
     "output_type": "stream",
     "text": [
      "Enter the first string: this is the best place\n",
      "Enter the second string: cricket is the best game\n",
      "Uncommon words:\n",
      "place\n",
      "game\n",
      "cricket\n",
      "this\n"
     ]
    }
   ],
   "source": [
    "# Question 5 -Program to find uncommon words from two strings\n",
    "def find_uncommon_words(string1, string2):\n",
    "    words1 = set(string1.split())\n",
    "    words2 = set(string2.split())\n",
    "    uncommon_words = words1.symmetric_difference(words2)\n",
    "    return list(uncommon_words)\n",
    "\n",
    "# Input two strings\n",
    "string1 = input(\"Enter the first string: \")\n",
    "string2 = input(\"Enter the second string: \")\n",
    "\n",
    "# Call the function to find uncommon words\n",
    "uncommon_words_list = find_uncommon_words(string1, string2)\n",
    "\n",
    "# Display the uncommon words\n",
    "if uncommon_words_list:\n",
    "    print(\"Uncommon words:\")\n",
    "    for word in uncommon_words_list:\n",
    "        print(word)\n",
    "else:\n",
    "    print(\"No uncommon words found.\")\n"
   ]
  },
  {
   "cell_type": "code",
   "execution_count": 12,
   "id": "72d548f1",
   "metadata": {},
   "outputs": [
    {
     "name": "stdout",
     "output_type": "stream",
     "text": [
      "Enter a string: Programming Languages\n",
      "Duplicate characters in the string:\n",
      "'r' appears 2 times.\n",
      "'g' appears 4 times.\n",
      "'a' appears 3 times.\n",
      "'m' appears 2 times.\n",
      "'n' appears 2 times.\n"
     ]
    }
   ],
   "source": [
    "#Question 6- Find all duplicate Characters in a string\n",
    "\n",
    "def find_duplicate_characters(input_string):\n",
    "    char_count = {}\n",
    "    duplicates = []\n",
    "\n",
    "    for char in input_string:\n",
    "        if char in char_count:\n",
    "            char_count[char] += 1\n",
    "        else:\n",
    "            char_count[char] = 1\n",
    "\n",
    "    for char, count in char_count.items():\n",
    "        if count > 1:\n",
    "            duplicates.append((char, count))\n",
    "\n",
    "    return duplicates\n",
    "\n",
    "# Input the string\n",
    "input_string = input(\"Enter a string: \")\n",
    "\n",
    "# Call the function to find duplicate characters\n",
    "duplicate_chars = find_duplicate_characters(input_string)\n",
    "\n",
    "# Display the duplicate characters and their counts\n",
    "if duplicate_chars:\n",
    "    print(\"Duplicate characters in the string:\")\n",
    "    for char, count in duplicate_chars:\n",
    "        print(f\"'{char}' appears {count} times.\")\n",
    "else:\n",
    "    print(\"No duplicate characters found in the string.\")\n"
   ]
  },
  {
   "cell_type": "code",
   "execution_count": 13,
   "id": "ab5d7f04",
   "metadata": {},
   "outputs": [
    {
     "name": "stdout",
     "output_type": "stream",
     "text": [
      "Enter a string: vipin11mar@gmail.com\n",
      "The string contains special characters.\n"
     ]
    }
   ],
   "source": [
    "#Question 7-Whether a String contains duplicate characters or not\n",
    "\n",
    "import re\n",
    "\n",
    "# Function to check if a string contains any special character\n",
    "def contains_special_character(input_string):\n",
    "    # Define a regular expression pattern for special characters\n",
    "    special_character_pattern = re.compile(r'[@_!#$%^&*()<>?/\\|}{~:]')\n",
    "\n",
    "    # Search for the pattern in the input string\n",
    "    if special_character_pattern.search(input_string):\n",
    "        return True\n",
    "    else:\n",
    "        return False\n",
    "\n",
    "# Input the string\n",
    "input_string = input(\"Enter a string: \")\n",
    "\n",
    "# Call the function to check if it contains any special character\n",
    "if contains_special_character(input_string):\n",
    "    print(\"The string contains special characters.\")\n",
    "else:\n",
    "    print(\"The string does not contain special characters.\")\n"
   ]
  },
  {
   "cell_type": "code",
   "execution_count": null,
   "id": "65438cba",
   "metadata": {},
   "outputs": [],
   "source": []
  }
 ],
 "metadata": {
  "kernelspec": {
   "display_name": "Python 3 (ipykernel)",
   "language": "python",
   "name": "python3"
  },
  "language_info": {
   "codemirror_mode": {
    "name": "ipython",
    "version": 3
   },
   "file_extension": ".py",
   "mimetype": "text/x-python",
   "name": "python",
   "nbconvert_exporter": "python",
   "pygments_lexer": "ipython3",
   "version": "3.9.12"
  }
 },
 "nbformat": 4,
 "nbformat_minor": 5
}
