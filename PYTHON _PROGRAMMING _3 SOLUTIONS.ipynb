{
 "cells": [
  {
   "cell_type": "code",
   "execution_count": 2,
   "id": "e601a546-e80d-4995-8965-a7a9e37c98c3",
   "metadata": {},
   "outputs": [
    {
     "name": "stdin",
     "output_type": "stream",
     "text": [
      "Enter a number:  2\n"
     ]
    },
    {
     "name": "stdout",
     "output_type": "stream",
     "text": [
      "The number is positive.\n"
     ]
    }
   ],
   "source": [
    "    ## 1.Number is Positive,Negative or Zero ##\n",
    "\n",
    "num = float(input(\"Enter a number: \"))\n",
    "\n",
    "if num > 0:\n",
    " print(\"The number is positive.\")\n",
    "elif num < 0:\n",
    " print(\"The number is negative.\")\n",
    "else:\n",
    " print(\"The number is zero.\")"
   ]
  },
  {
   "cell_type": "code",
   "execution_count": 3,
   "id": "457c6263-00e8-4211-b879-71c0a870d6b8",
   "metadata": {},
   "outputs": [
    {
     "name": "stdin",
     "output_type": "stream",
     "text": [
      "Enter a positive number:  23\n"
     ]
    },
    {
     "name": "stdout",
     "output_type": "stream",
     "text": [
      "The number is odd.\n"
     ]
    }
   ],
   "source": [
    "    ## 2.Odd or Even  ##\n",
    "\n",
    "num = int(input(\"Enter a positive number: \"))\n",
    "\n",
    "if num % 2 == 0:\n",
    " print(\"The number is even.\")\n",
    "else:\n",
    " print(\"The number is odd.\")"
   ]
  },
  {
   "cell_type": "code",
   "execution_count": 4,
   "id": "5ec1283a-e899-4949-9a8f-9d01b9870cfb",
   "metadata": {},
   "outputs": [
    {
     "name": "stdin",
     "output_type": "stream",
     "text": [
      "Enter a year:  1400\n"
     ]
    },
    {
     "name": "stdout",
     "output_type": "stream",
     "text": [
      "1400 is not a leap year.\n"
     ]
    }
   ],
   "source": [
    "## 3.Leap Year or not ###\n",
    "\n",
    "year = int(input(\"Enter a year: \"))\n",
    "\n",
    "if (year % 4 == 0 and year % 100 != 0) or year % 400 == 0:\n",
    " print(year, \"is a leap year.\")\n",
    "else:\n",
    " print(year, \"is not a leap year.\")"
   ]
  },
  {
   "cell_type": "code",
   "execution_count": 21,
   "id": "e89ed074-bc12-4208-858f-3a34d8ee3dad",
   "metadata": {},
   "outputs": [
    {
     "name": "stdin",
     "output_type": "stream",
     "text": [
      "Enter a number:  23\n"
     ]
    },
    {
     "name": "stdout",
     "output_type": "stream",
     "text": [
      "23 is a prime number.\n"
     ]
    }
   ],
   "source": [
    "                ## 4. Prime number or not ##\n",
    "\n",
    "number = int(input(\"Enter a number: \"))\n",
    "if number > 1:\n",
    "   for i in range(2, int(number/2) + 1):\n",
    "       if (number % i) == 0:\n",
    "          print(number, \"is not a prime number.\")\n",
    "          break\n",
    "   else:\n",
    "    print(number, \"is a prime number.\")\n",
    "else:\n",
    " print(number, \"is not a prime number.\")"
   ]
  },
  {
   "cell_type": "code",
   "execution_count": 27,
   "id": "1a5b35c1-1a94-49db-9a61-03f80639ac62",
   "metadata": {},
   "outputs": [
    {
     "name": "stdout",
     "output_type": "stream",
     "text": [
      "Prime numbers between 1 and 100 are:\n",
      "2\n",
      "3\n",
      "5\n",
      "7\n",
      "11\n",
      "13\n",
      "17\n",
      "19\n",
      "23\n",
      "29\n",
      "31\n",
      "37\n",
      "41\n",
      "43\n",
      "47\n",
      "53\n",
      "59\n",
      "61\n",
      "67\n",
      "71\n",
      "73\n",
      "79\n",
      "83\n",
      "89\n",
      "97\n"
     ]
    }
   ],
   "source": [
    "                 ## 5. Print Prime Numbers between 1-10000 ##\n",
    "\n",
    "def prime(num):\n",
    "    if num<=1:\n",
    "        return False\n",
    "\n",
    "    for i in range(2, int(num**0.5) + 1):\n",
    "     if num % i == 0:\n",
    "        return False\n",
    "    return True\n",
    "\n",
    "first = 1\n",
    "last = 10000\n",
    "\n",
    "print(\"Prime numbers between\", first, \"and\", last, \"are:\")\n",
    "for num in range(first, last + 1):\n",
    " if prime(num):\n",
    "  print(num)"
   ]
  },
  {
   "cell_type": "code",
   "execution_count": null,
   "id": "e7131e39-52d9-4345-8819-9749b6c963ef",
   "metadata": {},
   "outputs": [],
   "source": []
  }
 ],
 "metadata": {
  "kernelspec": {
   "display_name": "Python 3 (ipykernel)",
   "language": "python",
   "name": "python3"
  },
  "language_info": {
   "codemirror_mode": {
    "name": "ipython",
    "version": 3
   },
   "file_extension": ".py",
   "mimetype": "text/x-python",
   "name": "python",
   "nbconvert_exporter": "python",
   "pygments_lexer": "ipython3",
   "version": "3.9.12"
  }
 },
 "nbformat": 4,
 "nbformat_minor": 5
}
