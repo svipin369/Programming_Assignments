{
 "cells": [
  {
   "cell_type": "code",
   "execution_count": 1,
   "id": "1137b63f",
   "metadata": {},
   "outputs": [
    {
     "name": "stdout",
     "output_type": "stream",
     "text": [
      "Enter comma-separated values of D: 100,150,180\n",
      "Output: 18,22,24\n"
     ]
    }
   ],
   "source": [
    "#Question 1-Write a program that calculates and prints the value according to the given formula:\n",
    "#  Q = Square root of [(2 * C * D)/H]\n",
    "import math\n",
    "\n",
    "C = 50\n",
    "H = 30\n",
    "\n",
    "# Function to calculate Q for each D\n",
    "def calculate_Q(D):\n",
    "    return int(math.sqrt((2 * C * D) / H))\n",
    "\n",
    "# Input sequence of D values\n",
    "input_sequence = input(\"Enter comma-separated values of D: \")\n",
    "\n",
    "# Split the input sequence into a list of integers\n",
    "D_values = [int(x) for x in input_sequence.split(',')]\n",
    "\n",
    "# Calculate and print the corresponding Q values\n",
    "Q_values = [calculate_Q(D) for D in D_values]\n",
    "output_sequence = ','.join(map(str, Q_values))\n",
    "print(\"Output:\", output_sequence)\n",
    "\n",
    "\n"
   ]
  },
  {
   "cell_type": "code",
   "execution_count": 2,
   "id": "b46c6481",
   "metadata": {},
   "outputs": [
    {
     "name": "stdout",
     "output_type": "stream",
     "text": [
      "Enter two digits X and Y separated by a comma: 3,5\n",
      "[0, 0, 0, 0, 0]\n",
      "[0, 1, 2, 3, 4]\n",
      "[0, 2, 4, 6, 8]\n"
     ]
    }
   ],
   "source": [
    "#Question 2- Write a program which takes 2 digits, X,Y as input and generates a 2-dimensional array. \n",
    "#The element value in the i-th row and j-th column of the array should be i*j.\n",
    "\n",
    "X, Y = map(int, input(\"Enter two digits X and Y separated by a comma: \").split(','))\n",
    "\n",
    "# Initialize a 2D array filled with zeros\n",
    "result = [[0 for j in range(Y)] for i in range(X)]\n",
    "\n",
    "# Fill the array with values i*j\n",
    "for i in range(X):\n",
    "    for j in range(Y):\n",
    "        result[i][j] = i * j\n",
    "        \n",
    "for row in result:\n",
    "    print(row)\n"
   ]
  },
  {
   "cell_type": "code",
   "execution_count": 3,
   "id": "719e4d71",
   "metadata": {},
   "outputs": [
    {
     "name": "stdout",
     "output_type": "stream",
     "text": [
      "Enter a comma-separated sequence of words: without,hello,bag,world\n",
      "Sorted Output: bag,hello,without,world\n"
     ]
    }
   ],
   "source": [
    "#Question -3- Write a program that accepts a comma separated sequence of words as input and prints the words in a comma-separated sequence after sorting them alphabetically\n",
    "\n",
    "# Input a comma-separated sequence of words\n",
    "input_sequence = input(\"Enter a comma-separated sequence of words: \")\n",
    "\n",
    "# Split the input sequence into a list of words\n",
    "words = input_sequence.split(',')\n",
    "\n",
    "# Sort the words alphabetically\n",
    "sorted_words = sorted(words)\n",
    "\n",
    "# Join the sorted words back into a comma-separated sequence\n",
    "output_sequence = ','.join(sorted_words)\n",
    "\n",
    "# Print the sorted sequence\n",
    "print(\"Sorted Output:\", output_sequence)\n"
   ]
  },
  {
   "cell_type": "code",
   "execution_count": 4,
   "id": "8775fd3e",
   "metadata": {},
   "outputs": [
    {
     "name": "stdout",
     "output_type": "stream",
     "text": [
      "Enter a whitespace-separated sequence of words: hello world and practice makes perfect and hello world again\n",
      "Result: again and hello makes perfect practice world\n"
     ]
    }
   ],
   "source": [
    "#Question-4 -Write a program that accepts a sequence of whitespace separated words as input and prints the words after removing all duplicate words and sorting them alphanumerically.\n",
    "\n",
    "# Input a whitespace-separated sequence of words\n",
    "input_sequence = input(\"Enter a whitespace-separated sequence of words: \")\n",
    "\n",
    "# Split the input sequence into words\n",
    "words = input_sequence.split()\n",
    "\n",
    "# Remove duplicates by converting the list to a set and then back to a list\n",
    "unique_words = list(set(words))\n",
    "\n",
    "# Sort the unique words alphanumerically\n",
    "sorted_unique_words = sorted(unique_words)\n",
    "\n",
    "# Join the sorted unique words back into a whitespace-separated sequence\n",
    "output_sequence = ' '.join(sorted_unique_words)\n",
    "\n",
    "print(\"Result:\", output_sequence)\n",
    "\n"
   ]
  },
  {
   "cell_type": "code",
   "execution_count": 5,
   "id": "c7fc6f6f",
   "metadata": {},
   "outputs": [
    {
     "name": "stdout",
     "output_type": "stream",
     "text": [
      "Enter a sentence: Hello world!123\n",
      "LETTERS 10\n",
      "DIGITS 3\n"
     ]
    }
   ],
   "source": [
    "# Question 5- Write a program that accepts a sentence and calculate the number of letters and digits.\n",
    "\n",
    "# Input a sentence\n",
    "input_sentence = input(\"Enter a sentence: \")\n",
    "\n",
    "# Initialize variables to count letters and digits\n",
    "letter_count = 0\n",
    "digit_count = 0\n",
    "\n",
    "# Iterate through each character in the sentence\n",
    "for char in input_sentence:\n",
    "    # Check if the character is a letter\n",
    "    if char.isalpha():\n",
    "        letter_count += 1\n",
    "    # Check if the character is a digit\n",
    "    elif char.isdigit():\n",
    "        digit_count += 1\n",
    "\n",
    "# Print the counts\n",
    "print(\"LETTERS\", letter_count)\n",
    "print(\"DIGITS\", digit_count)\n"
   ]
  },
  {
   "cell_type": "code",
   "execution_count": 6,
   "id": "e0209667",
   "metadata": {},
   "outputs": [
    {
     "name": "stdout",
     "output_type": "stream",
     "text": [
      "Enter a sequence of comma-separated passwords: ABd1234@1,a F1#,2w3E*,2We3345\n",
      "ABd1234@1\n"
     ]
    }
   ],
   "source": [
    "# Question 6- A website requires the users to input username and password to register. Write a program to check the validity of password input by users.\n",
    "\n",
    "import re\n",
    "\n",
    "# Function to check the validity of a password\n",
    "def is_valid_password(password):\n",
    "    # Check the length of the password\n",
    "    if len(password) < 6 or len(password) > 12:\n",
    "        return False\n",
    "\n",
    "    # Check for at least 1 lowercase letter\n",
    "    if not re.search(r'[a-z]', password):\n",
    "        return False\n",
    "\n",
    "    # Check for at least 1 uppercase letter\n",
    "    if not re.search(r'[A-Z]', password):\n",
    "        return False\n",
    "\n",
    "    # Check for at least 1 digit\n",
    "    if not re.search(r'[0-9]', password):\n",
    "        return False\n",
    "\n",
    "    # Check for at least 1 special character from [$#@]\n",
    "    if not re.search(r'[$#@]', password):\n",
    "        return False\n",
    "\n",
    "    # If all criteria are met, return True\n",
    "    return True\n",
    "\n",
    "# Input a sequence of comma-separated passwords\n",
    "input_passwords = input(\"Enter a sequence of comma-separated passwords: \")\n",
    "\n",
    "# Split the input into individual passwords\n",
    "passwords = input_passwords.split(',')\n",
    "\n",
    "# Check each password and print valid ones\n",
    "valid_passwords = [password for password in passwords if is_valid_password(password)]\n",
    "\n",
    "# Print the valid passwords separated by commas\n",
    "print(','.join(valid_passwords))\n"
   ]
  },
  {
   "cell_type": "code",
   "execution_count": null,
   "id": "5134936d",
   "metadata": {},
   "outputs": [],
   "source": []
  }
 ],
 "metadata": {
  "kernelspec": {
   "display_name": "Python 3 (ipykernel)",
   "language": "python",
   "name": "python3"
  },
  "language_info": {
   "codemirror_mode": {
    "name": "ipython",
    "version": 3
   },
   "file_extension": ".py",
   "mimetype": "text/x-python",
   "name": "python",
   "nbconvert_exporter": "python",
   "pygments_lexer": "ipython3",
   "version": "3.9.12"
  }
 },
 "nbformat": 4,
 "nbformat_minor": 5
}
