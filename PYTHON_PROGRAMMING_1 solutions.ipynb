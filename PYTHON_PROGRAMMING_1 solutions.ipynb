{
 "cells": [
  {
   "cell_type": "code",
   "execution_count": 1,
   "id": "98bf66d6",
   "metadata": {},
   "outputs": [
    {
     "name": "stdout",
     "output_type": "stream",
     "text": [
      "Hello Python\n"
     ]
    }
   ],
   "source": [
    "##  Program to print \"hello python\"  ##\n",
    "\n",
    "print(\"Hello Python\")"
   ]
  },
  {
   "cell_type": "code",
   "execution_count": 2,
   "id": "20340c12",
   "metadata": {},
   "outputs": [
    {
     "name": "stdout",
     "output_type": "stream",
     "text": [
      "Enter first number(positive) :  23\n",
      "Enter second number(positive):  34\n",
      "Please Enter your choice :\n",
      "1.Addition :  \n",
      "2.Division\n",
      " :  1\n",
      "sum of numbers is:   57.0\n"
     ]
    }
   ],
   "source": [
    "## Arithmetic operation addition and division ##\n",
    "\n",
    "def add(x,y) :\n",
    "    return x+y\n",
    "\n",
    "def divide(x,y):\n",
    "    return x/y\n",
    "\n",
    "x=float(input(\"Enter first number(positive) :  \"))\n",
    "y=float(input(\"Enter second number(positive):  \"))\n",
    "choice=input(\"Please Enter your choice :\\n1.Addition :  \\n2.Division\\n :  \")\n",
    "if choice==\"1\":\n",
    "    output=add(x,y)\n",
    "    print( \"sum of numbers is:  \", output  )\n",
    "elif choice==\"2\" :\n",
    "    output=divide(x,y)\n",
    "    print(\"Result of division is:  \", output)\n",
    "else:\n",
    "    print(\"Wrong Choice!!\")\n"
   ]
  },
  {
   "cell_type": "code",
   "execution_count": 3,
   "id": "452c35c8",
   "metadata": {},
   "outputs": [
    {
     "name": "stdout",
     "output_type": "stream",
     "text": [
      "Enter value for base of triangle(positive integer) :  12\n",
      "Enter value for height of triangle(positive integer):  6\n",
      "Area of given triangle is :   36.0\n"
     ]
    }
   ],
   "source": [
    "          ## AREA OF A TRIANGLE ##\n",
    "\n",
    "def area(base,height):\n",
    "    return 1/2*base*height\n",
    "\n",
    "base=int(input(\"Enter value for base of triangle(positive integer) :  \"))\n",
    "height=int(input(\"Enter value for height of triangle(positive integer):  \"))\n",
    "output=area(base,height)\n",
    "print(\"Area of given triangle is :  \", output)"
   ]
  },
  {
   "cell_type": "code",
   "execution_count": 4,
   "id": "caf654f5",
   "metadata": {},
   "outputs": [
    {
     "name": "stdout",
     "output_type": "stream",
     "text": [
      "Enter first variable:  12\n",
      "Enter second variable:   23\n",
      "Before swapping: x = 12 and y = 23\n",
      "After swapping: x = 23 and y = 12\n"
     ]
    }
   ],
   "source": [
    " ## SWAPPING TWO VARIABLES ###\n",
    "\n",
    "def swap(a, b):\n",
    "    temp = a\n",
    "    a = b\n",
    "    b = temp\n",
    "    return a, b\n",
    "\n",
    "\n",
    "x=int(input(\"Enter first variable:  \"))\n",
    "y=int(input(\"Enter second variable:   \"))\n",
    "\n",
    "print(\"Before swapping: x =\", x, \"and y =\", y)\n",
    "x, y = swap(x, y)\n",
    "print(\"After swapping: x =\", x, \"and y =\", y)"
   ]
  },
  {
   "cell_type": "code",
   "execution_count": 5,
   "id": "63cae4a4",
   "metadata": {},
   "outputs": [
    {
     "name": "stdout",
     "output_type": "stream",
     "text": [
      "Random number is :   351\n"
     ]
    }
   ],
   "source": [
    "## Generate Random Number ##\n",
    "\n",
    "import random\n",
    "random_number= random.randint(1,1000)\n",
    "print(\"Random number is :  \", random_number)"
   ]
  },
  {
   "cell_type": "code",
   "execution_count": null,
   "id": "9290555d",
   "metadata": {},
   "outputs": [],
   "source": []
  }
 ],
 "metadata": {
  "kernelspec": {
   "display_name": "Python 3 (ipykernel)",
   "language": "python",
   "name": "python3"
  },
  "language_info": {
   "codemirror_mode": {
    "name": "ipython",
    "version": 3
   },
   "file_extension": ".py",
   "mimetype": "text/x-python",
   "name": "python",
   "nbconvert_exporter": "python",
   "pygments_lexer": "ipython3",
   "version": "3.9.12"
  }
 },
 "nbformat": 4,
 "nbformat_minor": 5
}
