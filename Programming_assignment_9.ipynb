{
 "cells": [
  {
   "cell_type": "code",
   "execution_count": 17,
   "id": "6ba67000",
   "metadata": {},
   "outputs": [
    {
     "name": "stdout",
     "output_type": "stream",
     "text": [
      "Enter a number: 89\n",
      "89 is a Disarium number.\n"
     ]
    }
   ],
   "source": [
    "#Question 1-Disarium number\n",
    "def is_disarium_number(num):\n",
    "    num_str = str(num)\n",
    "    power = 1\n",
    "    total = 0\n",
    "    for digit_char in num_str:\n",
    "        digit = int(digit_char)\n",
    "        total += digit ** power\n",
    "        power += 1\n",
    "    return total == num\n",
    "\n",
    "# Input from the user\n",
    "num = int(input(\"Enter a number: \"))\n",
    "\n",
    "if is_disarium_number(num):\n",
    "    print(f\"{num} is a Disarium number.\")\n",
    "else:\n",
    "    print(f\"{num} is not a Disarium number.\")"
   ]
  },
  {
   "cell_type": "code",
   "execution_count": 18,
   "id": "61fa75fc",
   "metadata": {},
   "outputs": [
    {
     "name": "stdout",
     "output_type": "stream",
     "text": [
      "1 2 3 4 5 6 7 8 9 89 "
     ]
    }
   ],
   "source": [
    "#Question 2-Print Disarium numbers 1 to 100\n",
    "def is_disarium_number(num):\n",
    "    num_str = str(num)\n",
    "    power = 1\n",
    "    total = 0\n",
    "\n",
    "    for digit_char in num_str:\n",
    "        digit = int(digit_char)\n",
    "        total += digit ** power\n",
    "        power += 1\n",
    "\n",
    "    return total == num\n",
    "\n",
    "# Loop through numbers from 1 to 100\n",
    "for num in range(1, 101):\n",
    "    if is_disarium_number(num):\n",
    "        print(num, end=\" \")"
   ]
  },
  {
   "cell_type": "code",
   "execution_count": 19,
   "id": "8143b4f6",
   "metadata": {},
   "outputs": [
    {
     "name": "stdout",
     "output_type": "stream",
     "text": [
      "Enter a number: 19\n",
      "19 is a Happy number.\n"
     ]
    }
   ],
   "source": [
    "#Question 3-Happy number or not\n",
    "\n",
    "def square_sum(num):\n",
    "    total = 0\n",
    "    while num > 0:\n",
    "        digit = num % 10\n",
    "        total += digit ** 2\n",
    "        num //= 10\n",
    "    return total\n",
    "\n",
    "def is_happy_number(num):\n",
    "    seen = set()\n",
    "    while num != 1 and num not in seen:\n",
    "        seen.add(num)\n",
    "        num = square_sum(num)\n",
    "    return num == 1\n",
    "\n",
    "# Input from the user\n",
    "num = int(input(\"Enter a number: \"))\n",
    "\n",
    "if is_happy_number(num):\n",
    "    print(f\"{num} is a Happy number.\")\n",
    "else:\n",
    "    print(f\"{num} is not a Happy number.\")"
   ]
  },
  {
   "cell_type": "code",
   "execution_count": 20,
   "id": "1a4ce288",
   "metadata": {},
   "outputs": [
    {
     "name": "stdout",
     "output_type": "stream",
     "text": [
      "Happy numbers between 1 and 100: [1, 7, 10, 13, 19, 23, 28, 31, 32, 44, 49, 68, 70, 79, 82, 86, 91, 94, 97, 100]\n"
     ]
    }
   ],
   "source": [
    "#Question 4 Happy numbers between 1 and 100\n",
    "\n",
    "def square_sum(num):\n",
    "    total = 0\n",
    "    while num > 0:\n",
    "        digit = num % 10\n",
    "        total += digit ** 2\n",
    "        num //= 10\n",
    "    return total\n",
    "\n",
    "def is_happy_number(num):\n",
    "    seen = set()\n",
    "    while num != 1 and num not in seen:\n",
    "        seen.add(num)\n",
    "        num = square_sum(num)\n",
    "    return num == 1\n",
    "\n",
    "# Loop through numbers from 1 to 100\n",
    "happy_numbers = []\n",
    "for num in range(1, 101):\n",
    "    if is_happy_number(num):\n",
    "        happy_numbers.append(num)\n",
    "\n",
    "print(\"Happy numbers between 1 and 100:\", happy_numbers)"
   ]
  },
  {
   "cell_type": "code",
   "execution_count": 21,
   "id": "4f55664b",
   "metadata": {},
   "outputs": [
    {
     "name": "stdout",
     "output_type": "stream",
     "text": [
      "18 is a Harshad Number.\n"
     ]
    }
   ],
   "source": [
    "#Question 5- Harshad number or not\n",
    "\n",
    "def is_harshad_number(num):\n",
    "    digit_sum = sum(int(digit) for digit in str(num))\n",
    "    return num % digit_sum == 0\n",
    "\n",
    "num = 18\n",
    "\n",
    "if is_harshad_number(num):\n",
    "    print(f\"{num} is a Harshad Number.\")\n",
    "else:\n",
    "    print(f\"{num} is not a Harshad Number.\")"
   ]
  },
  {
   "cell_type": "code",
   "execution_count": 22,
   "id": "d1955178",
   "metadata": {},
   "outputs": [
    {
     "name": "stdout",
     "output_type": "stream",
     "text": [
      "Pronic numbers between 1 and 100: [2, 6, 12, 20, 30, 42, 56, 72, 90]\n"
     ]
    }
   ],
   "source": [
    "#Question 6- Pronic numbers between 1 and 100\n",
    "\n",
    "def is_pronic_number(num):\n",
    "    for n in range(num + 1):\n",
    "        if n * (n + 1) == num:\n",
    "            return True\n",
    "    return False\n",
    "\n",
    "# Loop through numbers from 1 to 100\n",
    "pronic_numbers = []\n",
    "for num in range(1, 101):\n",
    "    if is_pronic_number(num):\n",
    "        pronic_numbers.append(num)\n",
    "\n",
    "print(\"Pronic numbers between 1 and 100:\", pronic_numbers)"
   ]
  },
  {
   "cell_type": "code",
   "execution_count": null,
   "id": "d31d6387",
   "metadata": {},
   "outputs": [],
   "source": []
  }
 ],
 "metadata": {
  "kernelspec": {
   "display_name": "Python 3 (ipykernel)",
   "language": "python",
   "name": "python3"
  },
  "language_info": {
   "codemirror_mode": {
    "name": "ipython",
    "version": 3
   },
   "file_extension": ".py",
   "mimetype": "text/x-python",
   "name": "python",
   "nbconvert_exporter": "python",
   "pygments_lexer": "ipython3",
   "version": "3.9.12"
  }
 },
 "nbformat": 4,
 "nbformat_minor": 5
}
