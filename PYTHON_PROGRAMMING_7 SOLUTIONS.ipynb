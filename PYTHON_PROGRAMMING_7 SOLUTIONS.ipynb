{
 "cells": [
  {
   "cell_type": "code",
   "execution_count": 1,
   "id": "a0285686",
   "metadata": {},
   "outputs": [
    {
     "name": "stdout",
     "output_type": "stream",
     "text": [
      "Enter the number of elements in the array: 4\n",
      "Enter element 1: 2\n",
      "Enter element 2: 4\n",
      "Enter element 3: 5\n",
      "Enter element 4: 6\n",
      "The sum of the array is: 17\n"
     ]
    }
   ],
   "source": [
    "### Q1. Sum of an Array ###\n",
    "\n",
    "def array_sum(arr):\n",
    "    sum = 0\n",
    "    for num in arr:\n",
    "        sum += num\n",
    "    return sum\n",
    "\n",
    "elements= int(input(\"Enter the number of elements in the array: \"))\n",
    "\n",
    "array = []\n",
    "for i in range(elements):\n",
    "    element = int(input(\"Enter element {}: \".format(i+1)))\n",
    "    array.append(element)\n",
    "final_sum = array_sum(array)\n",
    "print(\"The sum of the array is:\", final_sum)"
   ]
  },
  {
   "cell_type": "code",
   "execution_count": 2,
   "id": "9f192b70",
   "metadata": {},
   "outputs": [
    {
     "name": "stdout",
     "output_type": "stream",
     "text": [
      "Enter the number of elements in the array: 4\n",
      "Enter element 1: 3\n",
      "Enter element 2: 5\n",
      "Enter element 3: 7\n",
      "Enter element 4: 4\n",
      "The largest element in the array is: 7\n"
     ]
    }
   ],
   "source": [
    "### Largest Element in an Array ###\n",
    "\n",
    "def largest_element(arr):\n",
    "    if len(arr) == 0:\n",
    "        return \"The array is empty.\"\n",
    "\n",
    "    largest = arr[0]\n",
    "    for num in arr:\n",
    "        if num > largest:\n",
    "            largest = num\n",
    "    return largest\n",
    "\n",
    "total_elements = int(input(\"Enter the number of elements in the array: \"))\n",
    "\n",
    "array = []\n",
    "for i in range(total_elements):\n",
    "    element = int(input(\"Enter element {}: \".format(i+1)))\n",
    "    array.append(element)\n",
    "final_largest = largest_element(array)\n",
    "print(\"The largest element in the array is:\", final_largest)"
   ]
  },
  {
   "cell_type": "code",
   "execution_count": 20,
   "id": "577ed5ba",
   "metadata": {},
   "outputs": [
    {
     "name": "stdout",
     "output_type": "stream",
     "text": [
      "Enter the number of elements in the array: 4\n",
      "Enter element 1: 1\n",
      "Enter element 2: 2\n",
      "Enter element 3: 3\n",
      "Enter element 4: 4\n",
      "Enter the number of rotations: 2\n",
      "Array before rotation: [1, 2, 3, 4]\n",
      "Array after rotation: [3, 4, 1, 2]\n"
     ]
    }
   ],
   "source": [
    "####  Q3. Array Rotation ####\n",
    "\n",
    "def rotate_array(array, n):\n",
    "    rotated = array[n:] + array[:n]\n",
    "    return rotated\n",
    "\n",
    "total_elements = int(input(\"Enter the number of elements in the array: \"))\n",
    "array = []\n",
    "for i in range(total_elements):\n",
    "    element = int(input(\"Enter element {}: \".format(i+1)))\n",
    "    array.append(element)\n",
    "\n",
    "rotation = int(input(\"Enter the number of rotations: \"))\n",
    "print(\"Array before rotation:\", array)\n",
    "rotated_array = rotate_array(array, rotation)\n",
    "print(\"Array after rotation:\", rotated_array)"
   ]
  },
  {
   "cell_type": "code",
   "execution_count": 23,
   "id": "5248b44f",
   "metadata": {},
   "outputs": [
    {
     "name": "stdout",
     "output_type": "stream",
     "text": [
      "Enter the number of elements in the array: 4\n",
      "Enter element 1: 1\n",
      "Enter element 2: 2\n",
      "Enter element 3: 3\n",
      "Enter element 4: 4\n",
      "Enter the split index: 2\n",
      "Array before split: [1, 2, 3, 4]\n",
      "Array after splitting and adding the first part to the end: [3, 4, 1, 2]\n"
     ]
    }
   ],
   "source": [
    "### Q4.Split Array and Add first part to the end ####\n",
    "\n",
    "def split_array(array, split_index):\n",
    "    split_index = split_index % len(array)\n",
    "    rotated_array = array[split_index:] + array[:split_index]\n",
    "    return rotated_array\n",
    "num_elements = int(input(\"Enter the number of elements in the array: \"))\n",
    "\n",
    "array = []\n",
    "for i in range(num_elements):\n",
    "    element = int(input(\"Enter element {}: \".format(i+1)))\n",
    "    array.append(element)\n",
    "\n",
    "split_index = int(input(\"Enter the split index: \"))\n",
    "print(\"Array before split:\", array)\n",
    "result_array = split_array(array, split_index)\n",
    "print(\"Array after splitting and adding the first part to the end:\", result_array)"
   ]
  },
  {
   "cell_type": "code",
   "execution_count": 25,
   "id": "9103063a",
   "metadata": {},
   "outputs": [
    {
     "name": "stdout",
     "output_type": "stream",
     "text": [
      "Enter the number of elements in the array: 5\n",
      "Enter element 1: 2\n",
      "Enter element 2: 2\n",
      "Enter element 3: 2\n",
      "Enter element 4: 2\n",
      "Enter element 5: 2\n",
      "The given array is monotonic.\n"
     ]
    }
   ],
   "source": [
    "### Q5. Array is Monotonic or not###\n",
    "\n",
    "def is_monotonic(array):\n",
    "    increasing = decreasing = True\n",
    "\n",
    "    for i in range(1, len(array)):\n",
    "        if array[i] < array[i - 1]:\n",
    "            increasing = False\n",
    "        if array[i] > array[i - 1]:\n",
    "            decreasing = False\n",
    "\n",
    "    return increasing or decreasing\n",
    "elements = int(input(\"Enter the number of elements in the array: \"))\n",
    "\n",
    "array = []\n",
    "for i in range(elements):\n",
    "    input_element = int(input(\"Enter element {}: \".format(i+1)))\n",
    "    array.append(input_element)\n",
    "if is_monotonic(array):\n",
    "    print(\"The given array is monotonic.\")\n",
    "else:\n",
    "    print(\"The given array is not monotonic.\")"
   ]
  },
  {
   "cell_type": "code",
   "execution_count": null,
   "id": "007dbc20",
   "metadata": {},
   "outputs": [],
   "source": []
  }
 ],
 "metadata": {
  "kernelspec": {
   "display_name": "Python 3 (ipykernel)",
   "language": "python",
   "name": "python3"
  },
  "language_info": {
   "codemirror_mode": {
    "name": "ipython",
    "version": 3
   },
   "file_extension": ".py",
   "mimetype": "text/x-python",
   "name": "python",
   "nbconvert_exporter": "python",
   "pygments_lexer": "ipython3",
   "version": "3.9.12"
  }
 },
 "nbformat": 4,
 "nbformat_minor": 5
}
